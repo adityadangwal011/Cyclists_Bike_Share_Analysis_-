{
 "cells": [
  {
   "cell_type": "markdown",
   "metadata": {},
   "source": [
    "# Cyclistic Bike-Share Capstone Project\n",
    "\n",
    "## 1. Introduction\n",
    "\n",
    "This case study is the **Capstone Project of the Google Data Analytics Professional Certificate**. In this case study, I am working as a junior data analyst in the marketing analyst team at **Cyclistic**, a fictional bike-share company in Chicago.\n",
    "\n",
    "**Cyclistic** is a bike-share program that features more than 5,800 bicycles and 600 docking stations. Cyclistic sets itself apart by offering reclining bikes, hand tricycles, and cargo bikes, making bike-share more inclusive to people with disabilities and riders who cannot use a standard two-wheeled bike. The majority of riders opt for traditional bikes, while about **8% of riders use the assistive options**. Cyclistic users are more likely to ride for leisure, but **about 30% use them to commute to work each day**.\n",
    "\n",
    "In **2016**, Cyclistic launched a successful bike-share offering. Since then, the program has grown to a fleet of **5,824 bicycles** that are geotracked and locked into a network of **692 stations** across Chicago. The bikes can be unlocked from one station and returned to any other station in the system anytime.\n",
    "\n",
    "The director of marketing believes that the company’s future success depends on maximizing the number of annual memberships. Therefore, my team wants to understand how **casual riders** and **annual members** use Cyclistic bikes differently. From these insights, our team will design a new marketing strategy to convert casual riders into annual members. However, the Cyclistic executives must first approve our recommendations, which must be backed up with **compelling data insights** and **professional data visualizations**.\n",
    "\n",
    "There are **three pricing plans**:\n",
    "- Single-ride passes\n",
    "- Full-day passes\n",
    "- Annual memberships\n",
    "\n",
    "Customers who purchase single-ride or full-day passes are referred to as **casual riders**, while customers who purchase annual memberships are called **Cyclistic members**.\n",
    "\n",
    "To answer the key business questions, I followed the steps of the data analysis process: **ask, prepare, process, analyze, share, and act**.\n",
    "\n",
    "---\n",
    "\n",
    "## 2. Ask\n",
    "\n",
    "**Key Question:**\n",
    "  \n",
    "- How do annual members and casual riders use Cyclistic bikes differently?\n",
    "\n",
    "\n",
    "**Key Stakeholders:**\n",
    "- Lily Moreno, the director of marketing and my manager.\n",
    "- Cyclistic executive team.\n",
    "\n",
    "### Goal:\n",
    "First, the Cyclistic executive team must approve our recommendations, which need to be backed up with **data insights** and **data visualizations**.\n",
    "\n",
    "From the insights of my analysis, the team will design a new marketing strategy to convert casual riders into annual members.\n",
    "\n",
    "---\n",
    "\n",
    "## 3. Prepare\n",
    "\n",
    "**Data Used:**\n",
    "- Cyclistic’s **Historical Trip Data** to analyze and identify trends.\n",
    "\n",
    "**Timeframe:**\n",
    "- The **previous 12 months** of data from **January 1 2023, to December 31, 2023**.\n",
    "\n",
    "**Data Structure:**\n",
    "- The data is stored in **CSV files**. Each file contains **one month's data**, making a total of **12 .csv files**.\n",
    "\n",
    "**Data Organization:**\n",
    "- The data is **structured** and organized.\n",
    "\n",
    "**Dataset Considerations:**\n",
    "- The datasets have a different name because Cyclistic is a fictional company. However, for the purposes of this case study, the datasets are appropriate.\n",
    "- The data has been made available by **Motivate International Inc.** under a license.\n",
    "\n",
    "**Data Reliability:**\n",
    "- As this data is collected by a real bike-sharing company in Chicago, there are no issues with bias or credibility. The data is **Reliable, Original, Current, and Cited** (ROCCC).\n",
    "- Although it is **comprehensive**, the data lacks some important information, such as financial data.\n",
    "\n",
    "**Data Integrity:**\n",
    "- The data is **Accurate**, **Consistent**, and **Trustworthy**.\n",
    "\n",
    "### Limitations:\n",
    "\n",
    "- **Data Privacy**: The data-privacy issues prohibit me from using riders’ personally identifiable information (PII). This means that I cannot connect pass purchases to credit card numbers to determine if casual riders live in the Cyclistic service area or if they have purchased multiple single passes.\n",
    "- **Financial Information**: The financial information, such as the fare for each ride, is not available.\n",
    "- If **personally identifiable information** and **financial information** were available, I could have calculated whether casual riders spent more money on individual rides than they would have if they opted for annual memberships.\n",
    "- This dataset does not include data on the use of **reclining bikes, hand tricycles, and cargo bikes**, which account for 8% of total riders.\n",
    "\n",
    "---"
   ]
  },
  {
   "cell_type": "markdown",
   "metadata": {},
   "source": [
    "\n",
    "## PROCESS"
   ]
  },
  {
   "cell_type": "code",
   "execution_count": 36,
   "metadata": {},
   "outputs": [],
   "source": [
    "# Importing the necessary libraries for data analysis and visualization\n",
    "import numpy as np\n",
    "import pandas as pd\n",
    "import matplotlib.pyplot as plt # visualizing data\n",
    "%matplotlib inline\n",
    "import seaborn as sns"
   ]
  },
  {
   "cell_type": "code",
   "execution_count": 37,
   "metadata": {},
   "outputs": [],
   "source": [
    "\n",
    "# List of file paths: Each CSV file represents one month's worth of trip data from January to Decembe\n",
    "files = [\n",
    "    \"C:\\\\Users\\\\dangw\\\\Desktop\\\\Capstone_Project\\\\Cyclistic_Case_Study\\\\202301-divvy-tripdata.csv\",\n",
    "    \"C:\\\\Users\\\\dangw\\\\Desktop\\\\Capstone_Project\\\\Cyclistic_Case_Study\\\\202302-divvy-tripdata.csv\",\n",
    "    \"C:\\\\Users\\\\dangw\\\\Desktop\\\\Capstone_Project\\\\Cyclistic_Case_Study\\\\202303-divvy-tripdata.csv\",\n",
    "    \"C:\\\\Users\\\\dangw\\\\Desktop\\\\Capstone_Project\\\\Cyclistic_Case_Study\\\\202304-divvy-tripdata.csv\",\n",
    "    \"C:\\\\Users\\\\dangw\\\\Desktop\\\\Capstone_Project\\\\Cyclistic_Case_Study\\\\202305-divvy-tripdata.csv\",\n",
    "    \"C:\\\\Users\\\\dangw\\\\Desktop\\\\Capstone_Project\\\\Cyclistic_Case_Study\\\\202306-divvy-tripdata.csv\",\n",
    "    \"C:\\\\Users\\\\dangw\\\\Desktop\\\\Capstone_Project\\\\Cyclistic_Case_Study\\\\202307-divvy-tripdata.csv\",\n",
    "    \"C:\\\\Users\\\\dangw\\\\Desktop\\\\Capstone_Project\\\\Cyclistic_Case_Study\\\\202308-divvy-tripdata.csv\",\n",
    "    \"C:\\\\Users\\\\dangw\\\\Desktop\\\\Capstone_Project\\\\Cyclistic_Case_Study\\\\202309-divvy-tripdata.csv\",\n",
    "    \"C:\\\\Users\\\\dangw\\\\Desktop\\\\Capstone_Project\\\\Cyclistic_Case_Study\\\\202310-divvy-tripdata.csv\",\n",
    "    \"C:\\\\Users\\\\dangw\\\\Desktop\\\\Capstone_Project\\\\Cyclistic_Case_Study\\\\202311-divvy-tripdata.csv\",\n",
    "    \"C:\\\\Users\\\\dangw\\\\Desktop\\\\Capstone_Project\\\\Cyclistic_Case_Study\\\\202312-divvy-tripdata.csv\"\n",
    "]\n",
    "\n",
    "# We are reading each CSV file into a pandas DataFrame, then concatenating them (combining all into one DataFrame)\n",
    "combined_df = pd.concat([pd.read_csv(file) for file in files], ignore_index=True)\n",
    "\n",
    "# Exporting the combined DataFrame (all 12 months of data) into a single CSV file called 'yearly_tripdata.csv'\n",
    "\n",
    "combined_df.to_csv('yearly_tripdata.csv', index=False) "
   ]
  },
  {
   "cell_type": "code",
   "execution_count": 38,
   "metadata": {},
   "outputs": [
    {
     "data": {
      "text/html": [
       "<div>\n",
       "<style scoped>\n",
       "    .dataframe tbody tr th:only-of-type {\n",
       "        vertical-align: middle;\n",
       "    }\n",
       "\n",
       "    .dataframe tbody tr th {\n",
       "        vertical-align: top;\n",
       "    }\n",
       "\n",
       "    .dataframe thead th {\n",
       "        text-align: right;\n",
       "    }\n",
       "</style>\n",
       "<table border=\"1\" class=\"dataframe\">\n",
       "  <thead>\n",
       "    <tr style=\"text-align: right;\">\n",
       "      <th></th>\n",
       "      <th>ride_id</th>\n",
       "      <th>rideable_type</th>\n",
       "      <th>started_at</th>\n",
       "      <th>ended_at</th>\n",
       "      <th>start_station_name</th>\n",
       "      <th>start_station_id</th>\n",
       "      <th>end_station_name</th>\n",
       "      <th>end_station_id</th>\n",
       "      <th>start_lat</th>\n",
       "      <th>start_lng</th>\n",
       "      <th>end_lat</th>\n",
       "      <th>end_lng</th>\n",
       "      <th>member_casual</th>\n",
       "    </tr>\n",
       "  </thead>\n",
       "  <tbody>\n",
       "    <tr>\n",
       "      <th>0</th>\n",
       "      <td>F96D5A74A3E41399</td>\n",
       "      <td>electric_bike</td>\n",
       "      <td>2023-01-21 20:05:42</td>\n",
       "      <td>2023-01-21 20:16:33</td>\n",
       "      <td>Lincoln Ave &amp; Fullerton Ave</td>\n",
       "      <td>TA1309000058</td>\n",
       "      <td>Hampden Ct &amp; Diversey Ave</td>\n",
       "      <td>202480.0</td>\n",
       "      <td>41.924074</td>\n",
       "      <td>-87.646278</td>\n",
       "      <td>41.930000</td>\n",
       "      <td>-87.640000</td>\n",
       "      <td>member</td>\n",
       "    </tr>\n",
       "    <tr>\n",
       "      <th>1</th>\n",
       "      <td>13CB7EB698CEDB88</td>\n",
       "      <td>classic_bike</td>\n",
       "      <td>2023-01-10 15:37:36</td>\n",
       "      <td>2023-01-10 15:46:05</td>\n",
       "      <td>Kimbark Ave &amp; 53rd St</td>\n",
       "      <td>TA1309000037</td>\n",
       "      <td>Greenwood Ave &amp; 47th St</td>\n",
       "      <td>TA1308000002</td>\n",
       "      <td>41.799568</td>\n",
       "      <td>-87.594747</td>\n",
       "      <td>41.809835</td>\n",
       "      <td>-87.599383</td>\n",
       "      <td>member</td>\n",
       "    </tr>\n",
       "    <tr>\n",
       "      <th>2</th>\n",
       "      <td>BD88A2E670661CE5</td>\n",
       "      <td>electric_bike</td>\n",
       "      <td>2023-01-02 07:51:57</td>\n",
       "      <td>2023-01-02 08:05:11</td>\n",
       "      <td>Western Ave &amp; Lunt Ave</td>\n",
       "      <td>RP-005</td>\n",
       "      <td>Valli Produce - Evanston Plaza</td>\n",
       "      <td>599</td>\n",
       "      <td>42.008571</td>\n",
       "      <td>-87.690483</td>\n",
       "      <td>42.039742</td>\n",
       "      <td>-87.699413</td>\n",
       "      <td>casual</td>\n",
       "    </tr>\n",
       "    <tr>\n",
       "      <th>3</th>\n",
       "      <td>C90792D034FED968</td>\n",
       "      <td>classic_bike</td>\n",
       "      <td>2023-01-22 10:52:58</td>\n",
       "      <td>2023-01-22 11:01:44</td>\n",
       "      <td>Kimbark Ave &amp; 53rd St</td>\n",
       "      <td>TA1309000037</td>\n",
       "      <td>Greenwood Ave &amp; 47th St</td>\n",
       "      <td>TA1308000002</td>\n",
       "      <td>41.799568</td>\n",
       "      <td>-87.594747</td>\n",
       "      <td>41.809835</td>\n",
       "      <td>-87.599383</td>\n",
       "      <td>member</td>\n",
       "    </tr>\n",
       "    <tr>\n",
       "      <th>4</th>\n",
       "      <td>3397017529188E8A</td>\n",
       "      <td>classic_bike</td>\n",
       "      <td>2023-01-12 13:58:01</td>\n",
       "      <td>2023-01-12 14:13:20</td>\n",
       "      <td>Kimbark Ave &amp; 53rd St</td>\n",
       "      <td>TA1309000037</td>\n",
       "      <td>Greenwood Ave &amp; 47th St</td>\n",
       "      <td>TA1308000002</td>\n",
       "      <td>41.799568</td>\n",
       "      <td>-87.594747</td>\n",
       "      <td>41.809835</td>\n",
       "      <td>-87.599383</td>\n",
       "      <td>member</td>\n",
       "    </tr>\n",
       "  </tbody>\n",
       "</table>\n",
       "</div>"
      ],
      "text/plain": [
       "            ride_id  rideable_type           started_at             ended_at  \\\n",
       "0  F96D5A74A3E41399  electric_bike  2023-01-21 20:05:42  2023-01-21 20:16:33   \n",
       "1  13CB7EB698CEDB88   classic_bike  2023-01-10 15:37:36  2023-01-10 15:46:05   \n",
       "2  BD88A2E670661CE5  electric_bike  2023-01-02 07:51:57  2023-01-02 08:05:11   \n",
       "3  C90792D034FED968   classic_bike  2023-01-22 10:52:58  2023-01-22 11:01:44   \n",
       "4  3397017529188E8A   classic_bike  2023-01-12 13:58:01  2023-01-12 14:13:20   \n",
       "\n",
       "            start_station_name start_station_id  \\\n",
       "0  Lincoln Ave & Fullerton Ave     TA1309000058   \n",
       "1        Kimbark Ave & 53rd St     TA1309000037   \n",
       "2       Western Ave & Lunt Ave           RP-005   \n",
       "3        Kimbark Ave & 53rd St     TA1309000037   \n",
       "4        Kimbark Ave & 53rd St     TA1309000037   \n",
       "\n",
       "                 end_station_name end_station_id  start_lat  start_lng  \\\n",
       "0       Hampden Ct & Diversey Ave       202480.0  41.924074 -87.646278   \n",
       "1         Greenwood Ave & 47th St   TA1308000002  41.799568 -87.594747   \n",
       "2  Valli Produce - Evanston Plaza            599  42.008571 -87.690483   \n",
       "3         Greenwood Ave & 47th St   TA1308000002  41.799568 -87.594747   \n",
       "4         Greenwood Ave & 47th St   TA1308000002  41.799568 -87.594747   \n",
       "\n",
       "     end_lat    end_lng member_casual  \n",
       "0  41.930000 -87.640000        member  \n",
       "1  41.809835 -87.599383        member  \n",
       "2  42.039742 -87.699413        casual  \n",
       "3  41.809835 -87.599383        member  \n",
       "4  41.809835 -87.599383        member  "
      ]
     },
     "execution_count": 38,
     "metadata": {},
     "output_type": "execute_result"
    }
   ],
   "source": [
    "# Reading the combined CSV file (yearly_tripdata.csv) into a pandas DataFrame\n",
    "df = pd.read_csv(r\"yearly_tripdata.csv\", encoding= 'unicode_escape')\n",
    "\n",
    "# Displaying the first 5 rows of the DataFrame to get a quick look at the data\n",
    "df.head()\n"
   ]
  },
  {
   "cell_type": "code",
   "execution_count": 39,
   "metadata": {},
   "outputs": [
    {
     "name": "stdout",
     "output_type": "stream",
     "text": [
      "<class 'pandas.core.frame.DataFrame'>\n",
      "RangeIndex: 5719877 entries, 0 to 5719876\n",
      "Data columns (total 13 columns):\n",
      " #   Column              Dtype  \n",
      "---  ------              -----  \n",
      " 0   ride_id             object \n",
      " 1   rideable_type       object \n",
      " 2   started_at          object \n",
      " 3   ended_at            object \n",
      " 4   start_station_name  object \n",
      " 5   start_station_id    object \n",
      " 6   end_station_name    object \n",
      " 7   end_station_id      object \n",
      " 8   start_lat           float64\n",
      " 9   start_lng           float64\n",
      " 10  end_lat             float64\n",
      " 11  end_lng             float64\n",
      " 12  member_casual       object \n",
      "dtypes: float64(4), object(9)\n",
      "memory usage: 567.3+ MB\n"
     ]
    }
   ],
   "source": [
    "# Getting the overall information of the data\n",
    "df.info()"
   ]
  },
  {
   "cell_type": "code",
   "execution_count": 40,
   "metadata": {},
   "outputs": [
    {
     "data": {
      "text/plain": [
       "(5719877, 13)"
      ]
     },
     "execution_count": 40,
     "metadata": {},
     "output_type": "execute_result"
    }
   ],
   "source": [
    "# This will display the number of rows and columns in the DataFrame\n",
    "df.shape"
   ]
  },
  {
   "cell_type": "code",
   "execution_count": 41,
   "metadata": {},
   "outputs": [
    {
     "data": {
      "text/plain": [
       "ride_id                    0\n",
       "rideable_type              0\n",
       "started_at                 0\n",
       "ended_at                   0\n",
       "start_station_name    875716\n",
       "start_station_id      875848\n",
       "end_station_name      929202\n",
       "end_station_id        929343\n",
       "start_lat                  0\n",
       "start_lng                  0\n",
       "end_lat                 6990\n",
       "end_lng                 6990\n",
       "member_casual              0\n",
       "dtype: int64"
      ]
     },
     "execution_count": 41,
     "metadata": {},
     "output_type": "execute_result"
    }
   ],
   "source": [
    "# Check for null values\n",
    "df.isnull().sum()"
   ]
  },
  {
   "cell_type": "code",
   "execution_count": 42,
   "metadata": {},
   "outputs": [
    {
     "data": {
      "text/plain": [
       "0"
      ]
     },
     "execution_count": 42,
     "metadata": {},
     "output_type": "execute_result"
    }
   ],
   "source": [
    "# Checking Duplicate values\n",
    "df.duplicated().sum()"
   ]
  },
  {
   "cell_type": "code",
   "execution_count": 43,
   "metadata": {},
   "outputs": [
    {
     "data": {
      "text/html": [
       "<div>\n",
       "<style scoped>\n",
       "    .dataframe tbody tr th:only-of-type {\n",
       "        vertical-align: middle;\n",
       "    }\n",
       "\n",
       "    .dataframe tbody tr th {\n",
       "        vertical-align: top;\n",
       "    }\n",
       "\n",
       "    .dataframe thead th {\n",
       "        text-align: right;\n",
       "    }\n",
       "</style>\n",
       "<table border=\"1\" class=\"dataframe\">\n",
       "  <thead>\n",
       "    <tr style=\"text-align: right;\">\n",
       "      <th></th>\n",
       "      <th>ride_id</th>\n",
       "      <th>rideable_type</th>\n",
       "      <th>started_at</th>\n",
       "      <th>ended_at</th>\n",
       "      <th>member_casual</th>\n",
       "    </tr>\n",
       "  </thead>\n",
       "  <tbody>\n",
       "    <tr>\n",
       "      <th>0</th>\n",
       "      <td>F96D5A74A3E41399</td>\n",
       "      <td>electric_bike</td>\n",
       "      <td>2023-01-21 20:05:42</td>\n",
       "      <td>2023-01-21 20:16:33</td>\n",
       "      <td>member</td>\n",
       "    </tr>\n",
       "    <tr>\n",
       "      <th>1</th>\n",
       "      <td>13CB7EB698CEDB88</td>\n",
       "      <td>classic_bike</td>\n",
       "      <td>2023-01-10 15:37:36</td>\n",
       "      <td>2023-01-10 15:46:05</td>\n",
       "      <td>member</td>\n",
       "    </tr>\n",
       "    <tr>\n",
       "      <th>2</th>\n",
       "      <td>BD88A2E670661CE5</td>\n",
       "      <td>electric_bike</td>\n",
       "      <td>2023-01-02 07:51:57</td>\n",
       "      <td>2023-01-02 08:05:11</td>\n",
       "      <td>casual</td>\n",
       "    </tr>\n",
       "    <tr>\n",
       "      <th>3</th>\n",
       "      <td>C90792D034FED968</td>\n",
       "      <td>classic_bike</td>\n",
       "      <td>2023-01-22 10:52:58</td>\n",
       "      <td>2023-01-22 11:01:44</td>\n",
       "      <td>member</td>\n",
       "    </tr>\n",
       "    <tr>\n",
       "      <th>4</th>\n",
       "      <td>3397017529188E8A</td>\n",
       "      <td>classic_bike</td>\n",
       "      <td>2023-01-12 13:58:01</td>\n",
       "      <td>2023-01-12 14:13:20</td>\n",
       "      <td>member</td>\n",
       "    </tr>\n",
       "  </tbody>\n",
       "</table>\n",
       "</div>"
      ],
      "text/plain": [
       "            ride_id  rideable_type           started_at             ended_at  \\\n",
       "0  F96D5A74A3E41399  electric_bike  2023-01-21 20:05:42  2023-01-21 20:16:33   \n",
       "1  13CB7EB698CEDB88   classic_bike  2023-01-10 15:37:36  2023-01-10 15:46:05   \n",
       "2  BD88A2E670661CE5  electric_bike  2023-01-02 07:51:57  2023-01-02 08:05:11   \n",
       "3  C90792D034FED968   classic_bike  2023-01-22 10:52:58  2023-01-22 11:01:44   \n",
       "4  3397017529188E8A   classic_bike  2023-01-12 13:58:01  2023-01-12 14:13:20   \n",
       "\n",
       "  member_casual  \n",
       "0        member  \n",
       "1        member  \n",
       "2        casual  \n",
       "3        member  \n",
       "4        member  "
      ]
     },
     "execution_count": 43,
     "metadata": {},
     "output_type": "execute_result"
    }
   ],
   "source": [
    "# Dropping columns that are not relevant for the analysis\n",
    "df = df.drop(columns=['start_station_name', 'start_station_id', 'end_station_name', 'end_station_id', 'start_lat', 'start_lng', 'end_lat', 'end_lng'],errors= 'ignore')\n",
    "\n",
    "# Display the remaining columns\n",
    "df.head()\n"
   ]
  },
  {
   "cell_type": "code",
   "execution_count": 44,
   "metadata": {},
   "outputs": [
    {
     "data": {
      "text/plain": [
       "Index(['ride_id', 'rideable_type', 'started_at', 'ended_at', 'member_casual'], dtype='object')"
      ]
     },
     "execution_count": 44,
     "metadata": {},
     "output_type": "execute_result"
    }
   ],
   "source": [
    "# Checking cloumns after removing\n",
    "df.columns\n"
   ]
  },
  {
   "cell_type": "markdown",
   "metadata": {},
   "source": [
    "## ANALYZE"
   ]
  },
  {
   "cell_type": "markdown",
   "metadata": {},
   "source": [
    "### Data Transform"
   ]
  },
  {
   "cell_type": "markdown",
   "metadata": {},
   "source": [
    "**In this step, we will change the data format and add new columns to make analysis easier later**\n"
   ]
  },
  {
   "cell_type": "code",
   "execution_count": 45,
   "metadata": {},
   "outputs": [],
   "source": [
    "# Convert the 'started_at' and 'ended_at' columns to datetime format for easier date and time manipulation\n",
    "df['started_at'] = pd.to_datetime(df['started_at'], errors='coerce')\n",
    "df['ended_at'] = pd.to_datetime(df['ended_at'], errors='coerce')\n"
   ]
  },
  {
   "cell_type": "code",
   "execution_count": 46,
   "metadata": {},
   "outputs": [
    {
     "data": {
      "text/html": [
       "<div>\n",
       "<style scoped>\n",
       "    .dataframe tbody tr th:only-of-type {\n",
       "        vertical-align: middle;\n",
       "    }\n",
       "\n",
       "    .dataframe tbody tr th {\n",
       "        vertical-align: top;\n",
       "    }\n",
       "\n",
       "    .dataframe thead th {\n",
       "        text-align: right;\n",
       "    }\n",
       "</style>\n",
       "<table border=\"1\" class=\"dataframe\">\n",
       "  <thead>\n",
       "    <tr style=\"text-align: right;\">\n",
       "      <th></th>\n",
       "      <th>ride_id</th>\n",
       "      <th>rideable_type</th>\n",
       "      <th>started_at</th>\n",
       "      <th>ended_at</th>\n",
       "      <th>member_casual</th>\n",
       "    </tr>\n",
       "  </thead>\n",
       "  <tbody>\n",
       "    <tr>\n",
       "      <th>3929802</th>\n",
       "      <td>011C1903BF4E2E28</td>\n",
       "      <td>classic_bike</td>\n",
       "      <td>NaT</td>\n",
       "      <td>NaT</td>\n",
       "      <td>member</td>\n",
       "    </tr>\n",
       "    <tr>\n",
       "      <th>3929803</th>\n",
       "      <td>87DB80E048A1BF9F</td>\n",
       "      <td>classic_bike</td>\n",
       "      <td>NaT</td>\n",
       "      <td>NaT</td>\n",
       "      <td>member</td>\n",
       "    </tr>\n",
       "    <tr>\n",
       "      <th>3929804</th>\n",
       "      <td>7C2EB7AF669066E3</td>\n",
       "      <td>electric_bike</td>\n",
       "      <td>NaT</td>\n",
       "      <td>NaT</td>\n",
       "      <td>member</td>\n",
       "    </tr>\n",
       "    <tr>\n",
       "      <th>3929805</th>\n",
       "      <td>57D197B010269CE3</td>\n",
       "      <td>classic_bike</td>\n",
       "      <td>NaT</td>\n",
       "      <td>NaT</td>\n",
       "      <td>member</td>\n",
       "    </tr>\n",
       "    <tr>\n",
       "      <th>3929806</th>\n",
       "      <td>8A2CEA7C8C8074D8</td>\n",
       "      <td>classic_bike</td>\n",
       "      <td>NaT</td>\n",
       "      <td>NaT</td>\n",
       "      <td>member</td>\n",
       "    </tr>\n",
       "    <tr>\n",
       "      <th>...</th>\n",
       "      <td>...</td>\n",
       "      <td>...</td>\n",
       "      <td>...</td>\n",
       "      <td>...</td>\n",
       "      <td>...</td>\n",
       "    </tr>\n",
       "    <tr>\n",
       "      <th>5719872</th>\n",
       "      <td>F74DF9549B504A6B</td>\n",
       "      <td>electric_bike</td>\n",
       "      <td>NaT</td>\n",
       "      <td>NaT</td>\n",
       "      <td>casual</td>\n",
       "    </tr>\n",
       "    <tr>\n",
       "      <th>5719873</th>\n",
       "      <td>BCDA66E761CC1029</td>\n",
       "      <td>classic_bike</td>\n",
       "      <td>NaT</td>\n",
       "      <td>NaT</td>\n",
       "      <td>casual</td>\n",
       "    </tr>\n",
       "    <tr>\n",
       "      <th>5719874</th>\n",
       "      <td>D2CF330F9C266683</td>\n",
       "      <td>classic_bike</td>\n",
       "      <td>NaT</td>\n",
       "      <td>NaT</td>\n",
       "      <td>member</td>\n",
       "    </tr>\n",
       "    <tr>\n",
       "      <th>5719875</th>\n",
       "      <td>3829A0D1E00EE970</td>\n",
       "      <td>electric_bike</td>\n",
       "      <td>NaT</td>\n",
       "      <td>NaT</td>\n",
       "      <td>casual</td>\n",
       "    </tr>\n",
       "    <tr>\n",
       "      <th>5719876</th>\n",
       "      <td>A373F5B447AEA508</td>\n",
       "      <td>classic_bike</td>\n",
       "      <td>NaT</td>\n",
       "      <td>NaT</td>\n",
       "      <td>member</td>\n",
       "    </tr>\n",
       "  </tbody>\n",
       "</table>\n",
       "<p>1790075 rows × 5 columns</p>\n",
       "</div>"
      ],
      "text/plain": [
       "                  ride_id  rideable_type started_at ended_at member_casual\n",
       "3929802  011C1903BF4E2E28   classic_bike        NaT      NaT        member\n",
       "3929803  87DB80E048A1BF9F   classic_bike        NaT      NaT        member\n",
       "3929804  7C2EB7AF669066E3  electric_bike        NaT      NaT        member\n",
       "3929805  57D197B010269CE3   classic_bike        NaT      NaT        member\n",
       "3929806  8A2CEA7C8C8074D8   classic_bike        NaT      NaT        member\n",
       "...                   ...            ...        ...      ...           ...\n",
       "5719872  F74DF9549B504A6B  electric_bike        NaT      NaT        casual\n",
       "5719873  BCDA66E761CC1029   classic_bike        NaT      NaT        casual\n",
       "5719874  D2CF330F9C266683   classic_bike        NaT      NaT        member\n",
       "5719875  3829A0D1E00EE970  electric_bike        NaT      NaT        casual\n",
       "5719876  A373F5B447AEA508   classic_bike        NaT      NaT        member\n",
       "\n",
       "[1790075 rows x 5 columns]"
      ]
     },
     "execution_count": 46,
     "metadata": {},
     "output_type": "execute_result"
    }
   ],
   "source": [
    "# Display rows where 'started_at' or 'ended_at' contains NaT\n",
    "df[df['started_at'].isna() | df['ended_at'].isna()]"
   ]
  },
  {
   "cell_type": "code",
   "execution_count": 47,
   "metadata": {},
   "outputs": [
    {
     "data": {
      "text/html": [
       "<div>\n",
       "<style scoped>\n",
       "    .dataframe tbody tr th:only-of-type {\n",
       "        vertical-align: middle;\n",
       "    }\n",
       "\n",
       "    .dataframe tbody tr th {\n",
       "        vertical-align: top;\n",
       "    }\n",
       "\n",
       "    .dataframe thead th {\n",
       "        text-align: right;\n",
       "    }\n",
       "</style>\n",
       "<table border=\"1\" class=\"dataframe\">\n",
       "  <thead>\n",
       "    <tr style=\"text-align: right;\">\n",
       "      <th></th>\n",
       "      <th>ride_id</th>\n",
       "      <th>rideable_type</th>\n",
       "      <th>started_at</th>\n",
       "      <th>ended_at</th>\n",
       "      <th>member_casual</th>\n",
       "    </tr>\n",
       "  </thead>\n",
       "  <tbody>\n",
       "  </tbody>\n",
       "</table>\n",
       "</div>"
      ],
      "text/plain": [
       "Empty DataFrame\n",
       "Columns: [ride_id, rideable_type, started_at, ended_at, member_casual]\n",
       "Index: []"
      ]
     },
     "execution_count": 47,
     "metadata": {},
     "output_type": "execute_result"
    }
   ],
   "source": [
    "# Remove rows where 'started_at' or 'ended_at' contains NaT\n",
    "df= df.dropna(subset=['started_at', 'ended_at'])\n",
    "# After Remove\n",
    "df[df['started_at'].isna() | df['ended_at'].isna()]"
   ]
  },
  {
   "cell_type": "code",
   "execution_count": 48,
   "metadata": {},
   "outputs": [
    {
     "data": {
      "text/html": [
       "<div>\n",
       "<style scoped>\n",
       "    .dataframe tbody tr th:only-of-type {\n",
       "        vertical-align: middle;\n",
       "    }\n",
       "\n",
       "    .dataframe tbody tr th {\n",
       "        vertical-align: top;\n",
       "    }\n",
       "\n",
       "    .dataframe thead th {\n",
       "        text-align: right;\n",
       "    }\n",
       "</style>\n",
       "<table border=\"1\" class=\"dataframe\">\n",
       "  <thead>\n",
       "    <tr style=\"text-align: right;\">\n",
       "      <th></th>\n",
       "      <th>ride_id</th>\n",
       "      <th>rideable_type</th>\n",
       "      <th>started_at</th>\n",
       "      <th>ended_at</th>\n",
       "      <th>member_casual</th>\n",
       "      <th>ride_length</th>\n",
       "    </tr>\n",
       "  </thead>\n",
       "  <tbody>\n",
       "    <tr>\n",
       "      <th>0</th>\n",
       "      <td>F96D5A74A3E41399</td>\n",
       "      <td>electric_bike</td>\n",
       "      <td>2023-01-21 20:05:42</td>\n",
       "      <td>2023-01-21 20:16:33</td>\n",
       "      <td>member</td>\n",
       "      <td>10.850000</td>\n",
       "    </tr>\n",
       "    <tr>\n",
       "      <th>1</th>\n",
       "      <td>13CB7EB698CEDB88</td>\n",
       "      <td>classic_bike</td>\n",
       "      <td>2023-01-10 15:37:36</td>\n",
       "      <td>2023-01-10 15:46:05</td>\n",
       "      <td>member</td>\n",
       "      <td>8.483333</td>\n",
       "    </tr>\n",
       "    <tr>\n",
       "      <th>2</th>\n",
       "      <td>BD88A2E670661CE5</td>\n",
       "      <td>electric_bike</td>\n",
       "      <td>2023-01-02 07:51:57</td>\n",
       "      <td>2023-01-02 08:05:11</td>\n",
       "      <td>casual</td>\n",
       "      <td>13.233333</td>\n",
       "    </tr>\n",
       "    <tr>\n",
       "      <th>3</th>\n",
       "      <td>C90792D034FED968</td>\n",
       "      <td>classic_bike</td>\n",
       "      <td>2023-01-22 10:52:58</td>\n",
       "      <td>2023-01-22 11:01:44</td>\n",
       "      <td>member</td>\n",
       "      <td>8.766667</td>\n",
       "    </tr>\n",
       "    <tr>\n",
       "      <th>4</th>\n",
       "      <td>3397017529188E8A</td>\n",
       "      <td>classic_bike</td>\n",
       "      <td>2023-01-12 13:58:01</td>\n",
       "      <td>2023-01-12 14:13:20</td>\n",
       "      <td>member</td>\n",
       "      <td>15.316667</td>\n",
       "    </tr>\n",
       "  </tbody>\n",
       "</table>\n",
       "</div>"
      ],
      "text/plain": [
       "            ride_id  rideable_type          started_at            ended_at  \\\n",
       "0  F96D5A74A3E41399  electric_bike 2023-01-21 20:05:42 2023-01-21 20:16:33   \n",
       "1  13CB7EB698CEDB88   classic_bike 2023-01-10 15:37:36 2023-01-10 15:46:05   \n",
       "2  BD88A2E670661CE5  electric_bike 2023-01-02 07:51:57 2023-01-02 08:05:11   \n",
       "3  C90792D034FED968   classic_bike 2023-01-22 10:52:58 2023-01-22 11:01:44   \n",
       "4  3397017529188E8A   classic_bike 2023-01-12 13:58:01 2023-01-12 14:13:20   \n",
       "\n",
       "  member_casual  ride_length  \n",
       "0        member    10.850000  \n",
       "1        member     8.483333  \n",
       "2        casual    13.233333  \n",
       "3        member     8.766667  \n",
       "4        member    15.316667  "
      ]
     },
     "execution_count": 48,
     "metadata": {},
     "output_type": "execute_result"
    }
   ],
   "source": [
    "# Calculate the length of each ride in minutes\n",
    "df['ride_length'] = (df['ended_at'] - df['started_at'])/pd.Timedelta(minutes=1)\n",
    "df.head()"
   ]
  },
  {
   "cell_type": "code",
   "execution_count": 49,
   "metadata": {},
   "outputs": [
    {
     "data": {
      "text/html": [
       "<div>\n",
       "<style scoped>\n",
       "    .dataframe tbody tr th:only-of-type {\n",
       "        vertical-align: middle;\n",
       "    }\n",
       "\n",
       "    .dataframe tbody tr th {\n",
       "        vertical-align: top;\n",
       "    }\n",
       "\n",
       "    .dataframe thead th {\n",
       "        text-align: right;\n",
       "    }\n",
       "</style>\n",
       "<table border=\"1\" class=\"dataframe\">\n",
       "  <thead>\n",
       "    <tr style=\"text-align: right;\">\n",
       "      <th></th>\n",
       "      <th>ride_id</th>\n",
       "      <th>rideable_type</th>\n",
       "      <th>started_at</th>\n",
       "      <th>ended_at</th>\n",
       "      <th>member_casual</th>\n",
       "      <th>ride_length</th>\n",
       "    </tr>\n",
       "  </thead>\n",
       "  <tbody>\n",
       "    <tr>\n",
       "      <th>2038668</th>\n",
       "      <td>8B6E5BA70093AAB7</td>\n",
       "      <td>electric_bike</td>\n",
       "      <td>2023-06-02 19:29:06</td>\n",
       "      <td>2023-06-02 18:28:51</td>\n",
       "      <td>casual</td>\n",
       "      <td>-60.250000</td>\n",
       "    </tr>\n",
       "    <tr>\n",
       "      <th>3511986</th>\n",
       "      <td>DC4C145C46A1C4B2</td>\n",
       "      <td>electric_bike</td>\n",
       "      <td>2023-08-12 15:15:32</td>\n",
       "      <td>2023-08-12 14:26:00</td>\n",
       "      <td>casual</td>\n",
       "      <td>-49.533333</td>\n",
       "    </tr>\n",
       "    <tr>\n",
       "      <th>2038713</th>\n",
       "      <td>D12C3767DC204369</td>\n",
       "      <td>electric_bike</td>\n",
       "      <td>2023-06-02 19:29:42</td>\n",
       "      <td>2023-06-02 18:40:44</td>\n",
       "      <td>casual</td>\n",
       "      <td>-48.966667</td>\n",
       "    </tr>\n",
       "    <tr>\n",
       "      <th>3507619</th>\n",
       "      <td>ABB6B0F56CAD19B4</td>\n",
       "      <td>electric_bike</td>\n",
       "      <td>2023-08-12 14:30:04</td>\n",
       "      <td>2023-08-12 14:08:15</td>\n",
       "      <td>member</td>\n",
       "      <td>-21.816667</td>\n",
       "    </tr>\n",
       "    <tr>\n",
       "      <th>2309448</th>\n",
       "      <td>318E29DFACCD7C24</td>\n",
       "      <td>electric_bike</td>\n",
       "      <td>2023-06-02 23:26:45</td>\n",
       "      <td>2023-06-02 23:10:38</td>\n",
       "      <td>member</td>\n",
       "      <td>-16.116667</td>\n",
       "    </tr>\n",
       "    <tr>\n",
       "      <th>...</th>\n",
       "      <td>...</td>\n",
       "      <td>...</td>\n",
       "      <td>...</td>\n",
       "      <td>...</td>\n",
       "      <td>...</td>\n",
       "      <td>...</td>\n",
       "    </tr>\n",
       "    <tr>\n",
       "      <th>3863256</th>\n",
       "      <td>1A572575C18B600B</td>\n",
       "      <td>docked_bike</td>\n",
       "      <td>2023-08-15 15:19:32</td>\n",
       "      <td>2023-09-29 04:51:14</td>\n",
       "      <td>casual</td>\n",
       "      <td>64171.700000</td>\n",
       "    </tr>\n",
       "    <tr>\n",
       "      <th>3829955</th>\n",
       "      <td>ED31EE7C8024D292</td>\n",
       "      <td>docked_bike</td>\n",
       "      <td>2023-08-11 18:58:28</td>\n",
       "      <td>2023-10-06 04:33:29</td>\n",
       "      <td>casual</td>\n",
       "      <td>79775.016667</td>\n",
       "    </tr>\n",
       "    <tr>\n",
       "      <th>3288083</th>\n",
       "      <td>9EC4ACDAA96E516F</td>\n",
       "      <td>docked_bike</td>\n",
       "      <td>2023-08-07 12:16:36</td>\n",
       "      <td>2023-10-04 09:59:11</td>\n",
       "      <td>casual</td>\n",
       "      <td>83382.583333</td>\n",
       "    </tr>\n",
       "    <tr>\n",
       "      <th>3188701</th>\n",
       "      <td>24154619AEE96E2C</td>\n",
       "      <td>docked_bike</td>\n",
       "      <td>2023-08-03 22:06:08</td>\n",
       "      <td>2023-10-07 04:56:03</td>\n",
       "      <td>casual</td>\n",
       "      <td>92569.916667</td>\n",
       "    </tr>\n",
       "    <tr>\n",
       "      <th>3905728</th>\n",
       "      <td>992B647C22E22513</td>\n",
       "      <td>docked_bike</td>\n",
       "      <td>2023-08-02 19:27:12</td>\n",
       "      <td>2023-10-10 04:56:16</td>\n",
       "      <td>casual</td>\n",
       "      <td>98489.066667</td>\n",
       "    </tr>\n",
       "  </tbody>\n",
       "</table>\n",
       "<p>3929802 rows × 6 columns</p>\n",
       "</div>"
      ],
      "text/plain": [
       "                  ride_id  rideable_type          started_at  \\\n",
       "2038668  8B6E5BA70093AAB7  electric_bike 2023-06-02 19:29:06   \n",
       "3511986  DC4C145C46A1C4B2  electric_bike 2023-08-12 15:15:32   \n",
       "2038713  D12C3767DC204369  electric_bike 2023-06-02 19:29:42   \n",
       "3507619  ABB6B0F56CAD19B4  electric_bike 2023-08-12 14:30:04   \n",
       "2309448  318E29DFACCD7C24  electric_bike 2023-06-02 23:26:45   \n",
       "...                   ...            ...                 ...   \n",
       "3863256  1A572575C18B600B    docked_bike 2023-08-15 15:19:32   \n",
       "3829955  ED31EE7C8024D292    docked_bike 2023-08-11 18:58:28   \n",
       "3288083  9EC4ACDAA96E516F    docked_bike 2023-08-07 12:16:36   \n",
       "3188701  24154619AEE96E2C    docked_bike 2023-08-03 22:06:08   \n",
       "3905728  992B647C22E22513    docked_bike 2023-08-02 19:27:12   \n",
       "\n",
       "                   ended_at member_casual   ride_length  \n",
       "2038668 2023-06-02 18:28:51        casual    -60.250000  \n",
       "3511986 2023-08-12 14:26:00        casual    -49.533333  \n",
       "2038713 2023-06-02 18:40:44        casual    -48.966667  \n",
       "3507619 2023-08-12 14:08:15        member    -21.816667  \n",
       "2309448 2023-06-02 23:10:38        member    -16.116667  \n",
       "...                     ...           ...           ...  \n",
       "3863256 2023-09-29 04:51:14        casual  64171.700000  \n",
       "3829955 2023-10-06 04:33:29        casual  79775.016667  \n",
       "3288083 2023-10-04 09:59:11        casual  83382.583333  \n",
       "3188701 2023-10-07 04:56:03        casual  92569.916667  \n",
       "3905728 2023-10-10 04:56:16        casual  98489.066667  \n",
       "\n",
       "[3929802 rows x 6 columns]"
      ]
     },
     "execution_count": 49,
     "metadata": {},
     "output_type": "execute_result"
    }
   ],
   "source": [
    "# Sort the DataFrame by the 'ride_length' column in ascending order\n",
    "df.sort_values(by = 'ride_length')"
   ]
  },
  {
   "cell_type": "code",
   "execution_count": 50,
   "metadata": {},
   "outputs": [
    {
     "data": {
      "text/plain": [
       "ride_id          111438\n",
       "rideable_type    111438\n",
       "started_at       111438\n",
       "ended_at         111438\n",
       "member_casual    111438\n",
       "ride_length      111438\n",
       "dtype: int64"
      ]
     },
     "execution_count": 50,
     "metadata": {},
     "output_type": "execute_result"
    }
   ],
   "source": [
    "#  Check Number of rows containing Negative Values.\n",
    "df[df['ride_length'] < 1].count()"
   ]
  },
  {
   "cell_type": "code",
   "execution_count": 51,
   "metadata": {},
   "outputs": [
    {
     "data": {
      "text/html": [
       "<div>\n",
       "<style scoped>\n",
       "    .dataframe tbody tr th:only-of-type {\n",
       "        vertical-align: middle;\n",
       "    }\n",
       "\n",
       "    .dataframe tbody tr th {\n",
       "        vertical-align: top;\n",
       "    }\n",
       "\n",
       "    .dataframe thead th {\n",
       "        text-align: right;\n",
       "    }\n",
       "</style>\n",
       "<table border=\"1\" class=\"dataframe\">\n",
       "  <thead>\n",
       "    <tr style=\"text-align: right;\">\n",
       "      <th></th>\n",
       "      <th>ride_id</th>\n",
       "      <th>rideable_type</th>\n",
       "      <th>started_at</th>\n",
       "      <th>ended_at</th>\n",
       "      <th>member_casual</th>\n",
       "      <th>ride_length</th>\n",
       "    </tr>\n",
       "  </thead>\n",
       "  <tbody>\n",
       "    <tr>\n",
       "      <th>1927095</th>\n",
       "      <td>440F7E6214FB655B</td>\n",
       "      <td>classic_bike</td>\n",
       "      <td>2023-06-05 07:50:17</td>\n",
       "      <td>2023-06-05 07:51:17</td>\n",
       "      <td>member</td>\n",
       "      <td>1.000000</td>\n",
       "    </tr>\n",
       "    <tr>\n",
       "      <th>188463</th>\n",
       "      <td>1CB76579ED5E3C36</td>\n",
       "      <td>classic_bike</td>\n",
       "      <td>2023-01-30 17:30:59</td>\n",
       "      <td>2023-01-30 17:31:59</td>\n",
       "      <td>member</td>\n",
       "      <td>1.000000</td>\n",
       "    </tr>\n",
       "    <tr>\n",
       "      <th>350992</th>\n",
       "      <td>E20BDC6FACE7BB80</td>\n",
       "      <td>classic_bike</td>\n",
       "      <td>2023-02-19 14:05:57</td>\n",
       "      <td>2023-02-19 14:06:57</td>\n",
       "      <td>member</td>\n",
       "      <td>1.000000</td>\n",
       "    </tr>\n",
       "    <tr>\n",
       "      <th>2341280</th>\n",
       "      <td>2C9ACAEAF4A12D86</td>\n",
       "      <td>electric_bike</td>\n",
       "      <td>2023-06-10 01:41:09</td>\n",
       "      <td>2023-06-10 01:42:09</td>\n",
       "      <td>casual</td>\n",
       "      <td>1.000000</td>\n",
       "    </tr>\n",
       "    <tr>\n",
       "      <th>224179</th>\n",
       "      <td>3B60A2DF85FE88ED</td>\n",
       "      <td>electric_bike</td>\n",
       "      <td>2023-02-26 17:18:50</td>\n",
       "      <td>2023-02-26 17:19:50</td>\n",
       "      <td>member</td>\n",
       "      <td>1.000000</td>\n",
       "    </tr>\n",
       "    <tr>\n",
       "      <th>...</th>\n",
       "      <td>...</td>\n",
       "      <td>...</td>\n",
       "      <td>...</td>\n",
       "      <td>...</td>\n",
       "      <td>...</td>\n",
       "      <td>...</td>\n",
       "    </tr>\n",
       "    <tr>\n",
       "      <th>3863256</th>\n",
       "      <td>1A572575C18B600B</td>\n",
       "      <td>docked_bike</td>\n",
       "      <td>2023-08-15 15:19:32</td>\n",
       "      <td>2023-09-29 04:51:14</td>\n",
       "      <td>casual</td>\n",
       "      <td>64171.700000</td>\n",
       "    </tr>\n",
       "    <tr>\n",
       "      <th>3829955</th>\n",
       "      <td>ED31EE7C8024D292</td>\n",
       "      <td>docked_bike</td>\n",
       "      <td>2023-08-11 18:58:28</td>\n",
       "      <td>2023-10-06 04:33:29</td>\n",
       "      <td>casual</td>\n",
       "      <td>79775.016667</td>\n",
       "    </tr>\n",
       "    <tr>\n",
       "      <th>3288083</th>\n",
       "      <td>9EC4ACDAA96E516F</td>\n",
       "      <td>docked_bike</td>\n",
       "      <td>2023-08-07 12:16:36</td>\n",
       "      <td>2023-10-04 09:59:11</td>\n",
       "      <td>casual</td>\n",
       "      <td>83382.583333</td>\n",
       "    </tr>\n",
       "    <tr>\n",
       "      <th>3188701</th>\n",
       "      <td>24154619AEE96E2C</td>\n",
       "      <td>docked_bike</td>\n",
       "      <td>2023-08-03 22:06:08</td>\n",
       "      <td>2023-10-07 04:56:03</td>\n",
       "      <td>casual</td>\n",
       "      <td>92569.916667</td>\n",
       "    </tr>\n",
       "    <tr>\n",
       "      <th>3905728</th>\n",
       "      <td>992B647C22E22513</td>\n",
       "      <td>docked_bike</td>\n",
       "      <td>2023-08-02 19:27:12</td>\n",
       "      <td>2023-10-10 04:56:16</td>\n",
       "      <td>casual</td>\n",
       "      <td>98489.066667</td>\n",
       "    </tr>\n",
       "  </tbody>\n",
       "</table>\n",
       "<p>3818364 rows × 6 columns</p>\n",
       "</div>"
      ],
      "text/plain": [
       "                  ride_id  rideable_type          started_at  \\\n",
       "1927095  440F7E6214FB655B   classic_bike 2023-06-05 07:50:17   \n",
       "188463   1CB76579ED5E3C36   classic_bike 2023-01-30 17:30:59   \n",
       "350992   E20BDC6FACE7BB80   classic_bike 2023-02-19 14:05:57   \n",
       "2341280  2C9ACAEAF4A12D86  electric_bike 2023-06-10 01:41:09   \n",
       "224179   3B60A2DF85FE88ED  electric_bike 2023-02-26 17:18:50   \n",
       "...                   ...            ...                 ...   \n",
       "3863256  1A572575C18B600B    docked_bike 2023-08-15 15:19:32   \n",
       "3829955  ED31EE7C8024D292    docked_bike 2023-08-11 18:58:28   \n",
       "3288083  9EC4ACDAA96E516F    docked_bike 2023-08-07 12:16:36   \n",
       "3188701  24154619AEE96E2C    docked_bike 2023-08-03 22:06:08   \n",
       "3905728  992B647C22E22513    docked_bike 2023-08-02 19:27:12   \n",
       "\n",
       "                   ended_at member_casual   ride_length  \n",
       "1927095 2023-06-05 07:51:17        member      1.000000  \n",
       "188463  2023-01-30 17:31:59        member      1.000000  \n",
       "350992  2023-02-19 14:06:57        member      1.000000  \n",
       "2341280 2023-06-10 01:42:09        casual      1.000000  \n",
       "224179  2023-02-26 17:19:50        member      1.000000  \n",
       "...                     ...           ...           ...  \n",
       "3863256 2023-09-29 04:51:14        casual  64171.700000  \n",
       "3829955 2023-10-06 04:33:29        casual  79775.016667  \n",
       "3288083 2023-10-04 09:59:11        casual  83382.583333  \n",
       "3188701 2023-10-07 04:56:03        casual  92569.916667  \n",
       "3905728 2023-10-10 04:56:16        casual  98489.066667  \n",
       "\n",
       "[3818364 rows x 6 columns]"
      ]
     },
     "execution_count": 51,
     "metadata": {},
     "output_type": "execute_result"
    }
   ],
   "source": [
    "# Remove entries with ride length less than 1 minute.\n",
    "df = df[df['ride_length'] >= 1]\n",
    "df.sort_values(by = 'ride_length')"
   ]
  },
  {
   "cell_type": "code",
   "execution_count": 52,
   "metadata": {},
   "outputs": [
    {
     "data": {
      "text/html": [
       "<div>\n",
       "<style scoped>\n",
       "    .dataframe tbody tr th:only-of-type {\n",
       "        vertical-align: middle;\n",
       "    }\n",
       "\n",
       "    .dataframe tbody tr th {\n",
       "        vertical-align: top;\n",
       "    }\n",
       "\n",
       "    .dataframe thead th {\n",
       "        text-align: right;\n",
       "    }\n",
       "</style>\n",
       "<table border=\"1\" class=\"dataframe\">\n",
       "  <thead>\n",
       "    <tr style=\"text-align: right;\">\n",
       "      <th></th>\n",
       "      <th>ride_id</th>\n",
       "      <th>rideable_type</th>\n",
       "      <th>started_at</th>\n",
       "      <th>ended_at</th>\n",
       "      <th>member_casual</th>\n",
       "      <th>ride_length</th>\n",
       "      <th>day_of_week</th>\n",
       "    </tr>\n",
       "  </thead>\n",
       "  <tbody>\n",
       "    <tr>\n",
       "      <th>0</th>\n",
       "      <td>F96D5A74A3E41399</td>\n",
       "      <td>electric_bike</td>\n",
       "      <td>2023-01-21 20:05:42</td>\n",
       "      <td>2023-01-21 20:16:33</td>\n",
       "      <td>member</td>\n",
       "      <td>10.850000</td>\n",
       "      <td>6</td>\n",
       "    </tr>\n",
       "    <tr>\n",
       "      <th>1</th>\n",
       "      <td>13CB7EB698CEDB88</td>\n",
       "      <td>classic_bike</td>\n",
       "      <td>2023-01-10 15:37:36</td>\n",
       "      <td>2023-01-10 15:46:05</td>\n",
       "      <td>member</td>\n",
       "      <td>8.483333</td>\n",
       "      <td>2</td>\n",
       "    </tr>\n",
       "    <tr>\n",
       "      <th>2</th>\n",
       "      <td>BD88A2E670661CE5</td>\n",
       "      <td>electric_bike</td>\n",
       "      <td>2023-01-02 07:51:57</td>\n",
       "      <td>2023-01-02 08:05:11</td>\n",
       "      <td>casual</td>\n",
       "      <td>13.233333</td>\n",
       "      <td>1</td>\n",
       "    </tr>\n",
       "    <tr>\n",
       "      <th>3</th>\n",
       "      <td>C90792D034FED968</td>\n",
       "      <td>classic_bike</td>\n",
       "      <td>2023-01-22 10:52:58</td>\n",
       "      <td>2023-01-22 11:01:44</td>\n",
       "      <td>member</td>\n",
       "      <td>8.766667</td>\n",
       "      <td>7</td>\n",
       "    </tr>\n",
       "    <tr>\n",
       "      <th>4</th>\n",
       "      <td>3397017529188E8A</td>\n",
       "      <td>classic_bike</td>\n",
       "      <td>2023-01-12 13:58:01</td>\n",
       "      <td>2023-01-12 14:13:20</td>\n",
       "      <td>member</td>\n",
       "      <td>15.316667</td>\n",
       "      <td>4</td>\n",
       "    </tr>\n",
       "  </tbody>\n",
       "</table>\n",
       "</div>"
      ],
      "text/plain": [
       "            ride_id  rideable_type          started_at            ended_at  \\\n",
       "0  F96D5A74A3E41399  electric_bike 2023-01-21 20:05:42 2023-01-21 20:16:33   \n",
       "1  13CB7EB698CEDB88   classic_bike 2023-01-10 15:37:36 2023-01-10 15:46:05   \n",
       "2  BD88A2E670661CE5  electric_bike 2023-01-02 07:51:57 2023-01-02 08:05:11   \n",
       "3  C90792D034FED968   classic_bike 2023-01-22 10:52:58 2023-01-22 11:01:44   \n",
       "4  3397017529188E8A   classic_bike 2023-01-12 13:58:01 2023-01-12 14:13:20   \n",
       "\n",
       "  member_casual  ride_length  day_of_week  \n",
       "0        member    10.850000            6  \n",
       "1        member     8.483333            2  \n",
       "2        casual    13.233333            1  \n",
       "3        member     8.766667            7  \n",
       "4        member    15.316667            4  "
      ]
     },
     "execution_count": 52,
     "metadata": {},
     "output_type": "execute_result"
    }
   ],
   "source": [
    "# Create a new column 'day_of_week'\n",
    "df['day_of_week'] = (df['started_at'].dt.weekday + 1) % 7\n",
    "df['day_of_week'] = df['day_of_week'].replace(0, 7)\n",
    "df.head()"
   ]
  },
  {
   "cell_type": "markdown",
   "metadata": {},
   "source": [
    "##  ANALYZE"
   ]
  },
  {
   "cell_type": "code",
   "execution_count": 53,
   "metadata": {},
   "outputs": [
    {
     "data": {
      "text/plain": [
       "19.804373461164694"
      ]
     },
     "execution_count": 53,
     "metadata": {},
     "output_type": "execute_result"
    }
   ],
   "source": [
    "# Calculate the average of ride_length\n",
    "df['ride_length'].mean()"
   ]
  },
  {
   "cell_type": "code",
   "execution_count": 54,
   "metadata": {},
   "outputs": [
    {
     "data": {
      "text/plain": [
       "98489.06666666667"
      ]
     },
     "execution_count": 54,
     "metadata": {},
     "output_type": "execute_result"
    }
   ],
   "source": [
    "# Calculate the maximum ride_length\n",
    "df['ride_length'].max()"
   ]
  },
  {
   "cell_type": "code",
   "execution_count": 55,
   "metadata": {},
   "outputs": [
    {
     "data": {
      "text/plain": [
       "1.0"
      ]
     },
     "execution_count": 55,
     "metadata": {},
     "output_type": "execute_result"
    }
   ],
   "source": [
    "# Calculate the minimum ride_length\n",
    "df['ride_length'].min()"
   ]
  },
  {
   "cell_type": "code",
   "execution_count": 56,
   "metadata": {},
   "outputs": [
    {
     "data": {
      "text/plain": [
       "6"
      ]
     },
     "execution_count": 56,
     "metadata": {},
     "output_type": "execute_result"
    }
   ],
   "source": [
    "# Calculate the mode of day_of_week\n",
    "df['day_of_week'].mode()[0]"
   ]
  },
  {
   "cell_type": "code",
   "execution_count": 57,
   "metadata": {},
   "outputs": [
    {
     "data": {
      "text/plain": [
       "count    3.818364e+06\n",
       "mean     1.980437e+01\n",
       "std      2.168151e+02\n",
       "min      1.000000e+00\n",
       "25%      5.833333e+00\n",
       "50%      1.010000e+01\n",
       "75%      1.785000e+01\n",
       "max      9.848907e+04\n",
       "Name: ride_length, dtype: float64"
      ]
     },
     "execution_count": 57,
     "metadata": {},
     "output_type": "execute_result"
    }
   ],
   "source": [
    "# To get a summary of the descriptive analysis on ride length\n",
    "df['ride_length'].describe()"
   ]
  },
  {
   "cell_type": "code",
   "execution_count": 58,
   "metadata": {},
   "outputs": [
    {
     "data": {
      "text/html": [
       "<div>\n",
       "<style scoped>\n",
       "    .dataframe tbody tr th:only-of-type {\n",
       "        vertical-align: middle;\n",
       "    }\n",
       "\n",
       "    .dataframe tbody tr th {\n",
       "        vertical-align: top;\n",
       "    }\n",
       "\n",
       "    .dataframe thead th {\n",
       "        text-align: right;\n",
       "    }\n",
       "</style>\n",
       "<table border=\"1\" class=\"dataframe\">\n",
       "  <thead>\n",
       "    <tr style=\"text-align: right;\">\n",
       "      <th></th>\n",
       "      <th>member_casual</th>\n",
       "      <th>ride_length</th>\n",
       "    </tr>\n",
       "  </thead>\n",
       "  <tbody>\n",
       "    <tr>\n",
       "      <th>0</th>\n",
       "      <td>casual</td>\n",
       "      <td>31.129784</td>\n",
       "    </tr>\n",
       "    <tr>\n",
       "      <th>1</th>\n",
       "      <td>member</td>\n",
       "      <td>13.022106</td>\n",
       "    </tr>\n",
       "  </tbody>\n",
       "</table>\n",
       "</div>"
      ],
      "text/plain": [
       "  member_casual  ride_length\n",
       "0        casual    31.129784\n",
       "1        member    13.022106"
      ]
     },
     "execution_count": 58,
     "metadata": {},
     "output_type": "execute_result"
    }
   ],
   "source": [
    "# Compare the ride length of members and casual users\n",
    "df.groupby('member_casual')['ride_length'].mean().reset_index()"
   ]
  },
  {
   "cell_type": "code",
   "execution_count": 59,
   "metadata": {},
   "outputs": [
    {
     "data": {
      "text/html": [
       "<div>\n",
       "<style scoped>\n",
       "    .dataframe tbody tr th:only-of-type {\n",
       "        vertical-align: middle;\n",
       "    }\n",
       "\n",
       "    .dataframe tbody tr th {\n",
       "        vertical-align: top;\n",
       "    }\n",
       "\n",
       "    .dataframe thead th {\n",
       "        text-align: right;\n",
       "    }\n",
       "</style>\n",
       "<table border=\"1\" class=\"dataframe\">\n",
       "  <thead>\n",
       "    <tr style=\"text-align: right;\">\n",
       "      <th></th>\n",
       "      <th>member_casual</th>\n",
       "      <th>ride_length</th>\n",
       "    </tr>\n",
       "  </thead>\n",
       "  <tbody>\n",
       "    <tr>\n",
       "      <th>0</th>\n",
       "      <td>casual</td>\n",
       "      <td>12.666667</td>\n",
       "    </tr>\n",
       "    <tr>\n",
       "      <th>1</th>\n",
       "      <td>member</td>\n",
       "      <td>8.916667</td>\n",
       "    </tr>\n",
       "  </tbody>\n",
       "</table>\n",
       "</div>"
      ],
      "text/plain": [
       "  member_casual  ride_length\n",
       "0        casual    12.666667\n",
       "1        member     8.916667"
      ]
     },
     "execution_count": 59,
     "metadata": {},
     "output_type": "execute_result"
    }
   ],
   "source": [
    "# Calculate the median ride length for each user type ('member' or 'casual')\n",
    "df.groupby('member_casual')['ride_length'].median().reset_index()"
   ]
  },
  {
   "cell_type": "code",
   "execution_count": 60,
   "metadata": {},
   "outputs": [
    {
     "data": {
      "text/plain": [
       "member_casual\n",
       "casual    98489.066667\n",
       "member     1559.666667\n",
       "Name: ride_length, dtype: float64"
      ]
     },
     "execution_count": 60,
     "metadata": {},
     "output_type": "execute_result"
    }
   ],
   "source": [
    "# Find the maximum ride length for each user type ('member' or 'casual')\n",
    "df.groupby('member_casual')['ride_length'].max()"
   ]
  },
  {
   "cell_type": "code",
   "execution_count": 61,
   "metadata": {},
   "outputs": [
    {
     "data": {
      "text/plain": [
       "member_casual\n",
       "casual    1.0\n",
       "member    1.0\n",
       "Name: ride_length, dtype: float64"
      ]
     },
     "execution_count": 61,
     "metadata": {},
     "output_type": "execute_result"
    }
   ],
   "source": [
    "# Find the manimum ride length for each user type ('member' or 'casual')\n",
    "df.groupby('member_casual')['ride_length'].min()"
   ]
  },
  {
   "cell_type": "code",
   "execution_count": 62,
   "metadata": {},
   "outputs": [
    {
     "data": {
      "text/html": [
       "<div>\n",
       "<style scoped>\n",
       "    .dataframe tbody tr th:only-of-type {\n",
       "        vertical-align: middle;\n",
       "    }\n",
       "\n",
       "    .dataframe tbody tr th {\n",
       "        vertical-align: top;\n",
       "    }\n",
       "\n",
       "    .dataframe thead th {\n",
       "        text-align: right;\n",
       "    }\n",
       "</style>\n",
       "<table border=\"1\" class=\"dataframe\">\n",
       "  <thead>\n",
       "    <tr style=\"text-align: right;\">\n",
       "      <th></th>\n",
       "      <th>member_casual</th>\n",
       "      <th>day_of_week</th>\n",
       "      <th>ride_length</th>\n",
       "    </tr>\n",
       "  </thead>\n",
       "  <tbody>\n",
       "    <tr>\n",
       "      <th>0</th>\n",
       "      <td>casual</td>\n",
       "      <td>1</td>\n",
       "      <td>30.515476</td>\n",
       "    </tr>\n",
       "    <tr>\n",
       "      <th>1</th>\n",
       "      <td>casual</td>\n",
       "      <td>2</td>\n",
       "      <td>27.992255</td>\n",
       "    </tr>\n",
       "    <tr>\n",
       "      <th>2</th>\n",
       "      <td>casual</td>\n",
       "      <td>3</td>\n",
       "      <td>27.022629</td>\n",
       "    </tr>\n",
       "    <tr>\n",
       "      <th>3</th>\n",
       "      <td>casual</td>\n",
       "      <td>4</td>\n",
       "      <td>27.403703</td>\n",
       "    </tr>\n",
       "    <tr>\n",
       "      <th>4</th>\n",
       "      <td>casual</td>\n",
       "      <td>5</td>\n",
       "      <td>30.188260</td>\n",
       "    </tr>\n",
       "    <tr>\n",
       "      <th>5</th>\n",
       "      <td>casual</td>\n",
       "      <td>6</td>\n",
       "      <td>35.633911</td>\n",
       "    </tr>\n",
       "    <tr>\n",
       "      <th>6</th>\n",
       "      <td>casual</td>\n",
       "      <td>7</td>\n",
       "      <td>35.648549</td>\n",
       "    </tr>\n",
       "    <tr>\n",
       "      <th>7</th>\n",
       "      <td>member</td>\n",
       "      <td>1</td>\n",
       "      <td>12.367958</td>\n",
       "    </tr>\n",
       "    <tr>\n",
       "      <th>8</th>\n",
       "      <td>member</td>\n",
       "      <td>2</td>\n",
       "      <td>12.535206</td>\n",
       "    </tr>\n",
       "    <tr>\n",
       "      <th>9</th>\n",
       "      <td>member</td>\n",
       "      <td>3</td>\n",
       "      <td>12.328012</td>\n",
       "    </tr>\n",
       "    <tr>\n",
       "      <th>10</th>\n",
       "      <td>member</td>\n",
       "      <td>4</td>\n",
       "      <td>12.465831</td>\n",
       "    </tr>\n",
       "    <tr>\n",
       "      <th>11</th>\n",
       "      <td>member</td>\n",
       "      <td>5</td>\n",
       "      <td>13.016720</td>\n",
       "    </tr>\n",
       "    <tr>\n",
       "      <th>12</th>\n",
       "      <td>member</td>\n",
       "      <td>6</td>\n",
       "      <td>14.628623</td>\n",
       "    </tr>\n",
       "    <tr>\n",
       "      <th>13</th>\n",
       "      <td>member</td>\n",
       "      <td>7</td>\n",
       "      <td>14.497490</td>\n",
       "    </tr>\n",
       "  </tbody>\n",
       "</table>\n",
       "</div>"
      ],
      "text/plain": [
       "   member_casual  day_of_week  ride_length\n",
       "0         casual            1    30.515476\n",
       "1         casual            2    27.992255\n",
       "2         casual            3    27.022629\n",
       "3         casual            4    27.403703\n",
       "4         casual            5    30.188260\n",
       "5         casual            6    35.633911\n",
       "6         casual            7    35.648549\n",
       "7         member            1    12.367958\n",
       "8         member            2    12.535206\n",
       "9         member            3    12.328012\n",
       "10        member            4    12.465831\n",
       "11        member            5    13.016720\n",
       "12        member            6    14.628623\n",
       "13        member            7    14.497490"
      ]
     },
     "execution_count": 62,
     "metadata": {},
     "output_type": "execute_result"
    }
   ],
   "source": [
    "# Calculate the average ride length for each combination of user type ('member' or 'casual') and day of the week\n",
    "df.groupby(['member_casual', 'day_of_week'])['ride_length'].mean().reset_index()"
   ]
  },
  {
   "cell_type": "code",
   "execution_count": 63,
   "metadata": {},
   "outputs": [
    {
     "data": {
      "text/html": [
       "<div>\n",
       "<style scoped>\n",
       "    .dataframe tbody tr th:only-of-type {\n",
       "        vertical-align: middle;\n",
       "    }\n",
       "\n",
       "    .dataframe tbody tr th {\n",
       "        vertical-align: top;\n",
       "    }\n",
       "\n",
       "    .dataframe thead th {\n",
       "        text-align: right;\n",
       "    }\n",
       "</style>\n",
       "<table border=\"1\" class=\"dataframe\">\n",
       "  <thead>\n",
       "    <tr style=\"text-align: right;\">\n",
       "      <th></th>\n",
       "      <th>member_casual</th>\n",
       "      <th>weekday</th>\n",
       "      <th>number_of_rides</th>\n",
       "      <th>average_duration</th>\n",
       "    </tr>\n",
       "  </thead>\n",
       "  <tbody>\n",
       "    <tr>\n",
       "      <th>0</th>\n",
       "      <td>casual</td>\n",
       "      <td>Friday</td>\n",
       "      <td>217437</td>\n",
       "      <td>30.188260</td>\n",
       "    </tr>\n",
       "    <tr>\n",
       "      <th>1</th>\n",
       "      <td>casual</td>\n",
       "      <td>Monday</td>\n",
       "      <td>164067</td>\n",
       "      <td>30.515476</td>\n",
       "    </tr>\n",
       "    <tr>\n",
       "      <th>2</th>\n",
       "      <td>casual</td>\n",
       "      <td>Saturday</td>\n",
       "      <td>281222</td>\n",
       "      <td>35.633911</td>\n",
       "    </tr>\n",
       "    <tr>\n",
       "      <th>3</th>\n",
       "      <td>casual</td>\n",
       "      <td>Sunday</td>\n",
       "      <td>225776</td>\n",
       "      <td>35.648549</td>\n",
       "    </tr>\n",
       "    <tr>\n",
       "      <th>4</th>\n",
       "      <td>casual</td>\n",
       "      <td>Thursday</td>\n",
       "      <td>191748</td>\n",
       "      <td>27.403703</td>\n",
       "    </tr>\n",
       "    <tr>\n",
       "      <th>5</th>\n",
       "      <td>casual</td>\n",
       "      <td>Tuesday</td>\n",
       "      <td>175624</td>\n",
       "      <td>27.992255</td>\n",
       "    </tr>\n",
       "    <tr>\n",
       "      <th>6</th>\n",
       "      <td>casual</td>\n",
       "      <td>Wednesday</td>\n",
       "      <td>174302</td>\n",
       "      <td>27.022629</td>\n",
       "    </tr>\n",
       "    <tr>\n",
       "      <th>7</th>\n",
       "      <td>member</td>\n",
       "      <td>Friday</td>\n",
       "      <td>343797</td>\n",
       "      <td>13.016720</td>\n",
       "    </tr>\n",
       "    <tr>\n",
       "      <th>8</th>\n",
       "      <td>member</td>\n",
       "      <td>Monday</td>\n",
       "      <td>323901</td>\n",
       "      <td>12.367958</td>\n",
       "    </tr>\n",
       "    <tr>\n",
       "      <th>9</th>\n",
       "      <td>member</td>\n",
       "      <td>Saturday</td>\n",
       "      <td>304633</td>\n",
       "      <td>14.628623</td>\n",
       "    </tr>\n",
       "    <tr>\n",
       "      <th>10</th>\n",
       "      <td>member</td>\n",
       "      <td>Sunday</td>\n",
       "      <td>264918</td>\n",
       "      <td>14.497490</td>\n",
       "    </tr>\n",
       "    <tr>\n",
       "      <th>11</th>\n",
       "      <td>member</td>\n",
       "      <td>Thursday</td>\n",
       "      <td>385906</td>\n",
       "      <td>12.465831</td>\n",
       "    </tr>\n",
       "    <tr>\n",
       "      <th>12</th>\n",
       "      <td>member</td>\n",
       "      <td>Tuesday</td>\n",
       "      <td>382017</td>\n",
       "      <td>12.535206</td>\n",
       "    </tr>\n",
       "    <tr>\n",
       "      <th>13</th>\n",
       "      <td>member</td>\n",
       "      <td>Wednesday</td>\n",
       "      <td>383016</td>\n",
       "      <td>12.328012</td>\n",
       "    </tr>\n",
       "  </tbody>\n",
       "</table>\n",
       "</div>"
      ],
      "text/plain": [
       "   member_casual    weekday  number_of_rides  average_duration\n",
       "0         casual     Friday           217437         30.188260\n",
       "1         casual     Monday           164067         30.515476\n",
       "2         casual   Saturday           281222         35.633911\n",
       "3         casual     Sunday           225776         35.648549\n",
       "4         casual   Thursday           191748         27.403703\n",
       "5         casual    Tuesday           175624         27.992255\n",
       "6         casual  Wednesday           174302         27.022629\n",
       "7         member     Friday           343797         13.016720\n",
       "8         member     Monday           323901         12.367958\n",
       "9         member   Saturday           304633         14.628623\n",
       "10        member     Sunday           264918         14.497490\n",
       "11        member   Thursday           385906         12.465831\n",
       "12        member    Tuesday           382017         12.535206\n",
       "13        member  Wednesday           383016         12.328012"
      ]
     },
     "execution_count": 63,
     "metadata": {},
     "output_type": "execute_result"
    }
   ],
   "source": [
    "# Analyze ridership by type and weekday (number of rides and average ride length)\n",
    "df['weekday'] = pd.to_datetime(df['started_at']).dt.day_name()\n",
    "\n",
    "df.groupby(['member_casual', 'weekday']).agg(\n",
    "    number_of_rides=('ride_length', 'size'),\n",
    "    average_duration=('ride_length', 'mean')\n",
    ").reset_index().sort_values(['member_casual', 'weekday'])\n"
   ]
  },
  {
   "cell_type": "code",
   "execution_count": 64,
   "metadata": {},
   "outputs": [
    {
     "data": {
      "text/plain": [
       "Index(['ride_id', 'rideable_type', 'started_at', 'ended_at', 'member_casual',\n",
       "       'ride_length', 'day_of_week', 'weekday'],\n",
       "      dtype='object')"
      ]
     },
     "execution_count": 64,
     "metadata": {},
     "output_type": "execute_result"
    }
   ],
   "source": [
    "df.columns"
   ]
  },
  {
   "cell_type": "markdown",
   "metadata": {},
   "source": [
    "## SHARE"
   ]
  },
  {
   "cell_type": "markdown",
   "metadata": {},
   "source": [
    "### The Number Of Rides By Rider Type"
   ]
  },
  {
   "cell_type": "code",
   "execution_count": 65,
   "metadata": {},
   "outputs": [
    {
     "data": {
      "image/png": "[encoded data removed]",
      "text/plain": [
       "<Figure size 1000x600 with 1 Axes>"
      ]
     },
     "metadata": {},
     "output_type": "display_data"
    }
   ],
   "source": [
    "# Define weekday order and convert to categorical\n",
    "df['weekday'] = pd.Categorical(df['started_at'].dt.day_name(), \n",
    "                                categories=['Monday', 'Tuesday', 'Wednesday', \n",
    "                                            'Thursday', 'Friday', 'Saturday', 'Sunday'], \n",
    "                                ordered=True)\n",
    "\n",
    "# Create the summary table and plot\n",
    "summary = (df.groupby(['member_casual', 'weekday'], observed=True)\n",
    "           .agg(number_of_rides=('ride_length', 'size'), average_duration=('ride_length', 'mean'))\n",
    "           .reset_index()\n",
    "           .sort_values(by=['member_casual', 'weekday']))\n",
    "\n",
    "plt.figure(figsize=(10, 6))\n",
    "sns.barplot(data=summary, x='weekday', y='number_of_rides', hue='member_casual', dodge=True)\n",
    "plt.title('Number of Rides by Rider Type')\n",
    "plt.xlabel('Weekday')\n",
    "plt.ylabel('Number of Rides')\n",
    "plt.legend(title='Member Type')\n",
    "plt.show()\n"
   ]
  },
  {
   "cell_type": "markdown",
   "metadata": {},
   "source": [
    "### Average Duration of Rides by Rider Type"
   ]
  },
  {
   "cell_type": "code",
   "execution_count": 66,
   "metadata": {},
   "outputs": [
    {
     "data": {
      "image/png": "[encoded data removed]",
      "text/plain": [
       "<Figure size 1000x600 with 1 Axes>"
      ]
     },
     "metadata": {},
     "output_type": "display_data"
    }
   ],
   "source": [
    "# Set weekday order and convert to categorical\n",
    "df['weekday'] = pd.Categorical(df['started_at'].dt.day_name(),\n",
    "                                         categories=['Monday', 'Tuesday', 'Wednesday', 'Thursday', \n",
    "                                                     'Friday', 'Saturday', 'Sunday'], ordered=True)\n",
    "\n",
    "# Group by member type and weekday, aggregate ride count and duration\n",
    "summary = df.groupby(['member_casual', 'weekday'], observed=True).agg(\n",
    "    number_of_rides=('ride_length', 'size'),\n",
    "    average_duration=('ride_length', 'mean')).reset_index()\n",
    "\n",
    "# Plot average duration of rides by rider type\n",
    "plt.figure(figsize=(10, 6))\n",
    "sns.barplot(data=summary, x='weekday', y='average_duration', hue='member_casual', dodge=True)\n",
    "plt.title('Average Duration of Rides by Rider Type')\n",
    "plt.show()\n"
   ]
  },
  {
   "cell_type": "markdown",
   "metadata": {},
   "source": [
    "### Conclusions\n",
    "\n",
    "#### 1. Average Duration of Rides by Rider Type\n",
    "- **Casual riders** consistently have longer average ride durations compared to members across all days of the week.\n",
    "- The average duration of casual riders’ trips peaks on weekends (Saturday and Sunday), reaching over 35 minutes.\n",
    "- **Members** have a steady average ride duration of around 10 to 15 minutes throughout the week, with minimal variation between weekdays and weekends.\n",
    "\n",
    "---"
   ]
  },
  {
   "cell_type": "markdown",
   "metadata": {},
   "source": [
    "### Number Rides by Weekday "
   ]
  },
  {
   "cell_type": "code",
   "execution_count": 85,
   "metadata": {},
   "outputs": [
    {
     "name": "stderr",
     "output_type": "stream",
     "text": [
      "C:\\Users\\dangw\\AppData\\Local\\Temp\\ipykernel_31784\\2631291617.py:13: FutureWarning: \n",
      "\n",
      "Passing `palette` without assigning `hue` is deprecated and will be removed in v0.14.0. Assign the `x` variable to `hue` and set `legend=False` for the same effect.\n",
      "\n",
      "  sns.barplot(data=ride_counts, x='weekday', y='number_of_rides',palette='viridis')\n"
     ]
    },
    {
     "data": {
      "image/png": "[encoded data removed]",
      "text/plain": [
       "<Figure size 1000x600 with 1 Axes>"
      ]
     },
     "metadata": {},
     "output_type": "display_data"
    }
   ],
   "source": [
    "# Define weekday order and convert to categorical\n",
    "df['weekday'] = pd.Categorical(df['started_at'].dt.day_name(), \n",
    "                                categories=['Monday', 'Tuesday', 'Wednesday', \n",
    "                                            'Thursday', 'Friday', 'Saturday', 'Sunday'], \n",
    "                                ordered=True)\n",
    "\n",
    "# Create the summary table for the number of rides\n",
    "ride_counts = df['weekday'].value_counts().sort_index().reset_index()\n",
    "ride_counts.columns = ['weekday', 'number_of_rides']\n",
    "\n",
    "# Create the bar plot for the number of rides\n",
    "plt.figure(figsize=(10, 6))\n",
    "sns.barplot(data=ride_counts, x='weekday', y='number_of_rides',palette='viridis')\n",
    "plt.title('Number of Rides by Weekday')\n",
    "plt.xlabel('Weekday')\n",
    "plt.ylabel('Number of Rides')\n",
    "plt.xticks(rotation=45)  # Rotate x-axis labels for better readability\n",
    "plt.tight_layout()  # Adjust layout for better spacing\n",
    "plt.show()\n"
   ]
  },
  {
   "cell_type": "markdown",
   "metadata": {},
   "source": [
    "### Conclusions\n",
    "\n",
    "#### 2. Number of Rides by Weekday\n",
    "- The number of rides peaks on **Saturday**, followed by Friday and Thursday.\n",
    "- **Sunday** has the lowest number of rides, indicating a lower ridership on that day.\n",
    "- The overall number of rides is higher from **Tuesday to Saturday**.\n",
    "----"
   ]
  },
  {
   "cell_type": "markdown",
   "metadata": {},
   "source": [
    "### Average Ride Length by Weekday in minutes"
   ]
  },
  {
   "cell_type": "code",
   "execution_count": 83,
   "metadata": {},
   "outputs": [
    {
     "name": "stderr",
     "output_type": "stream",
     "text": [
      "C:\\Users\\dangw\\AppData\\Local\\Temp\\ipykernel_31784\\2824085322.py:14: FutureWarning: \n",
      "\n",
      "Passing `palette` without assigning `hue` is deprecated and will be removed in v0.14.0. Assign the `x` variable to `hue` and set `legend=False` for the same effect.\n",
      "\n",
      "  sns.barplot(data=summary, x='weekday', y='average_ride_length', palette='viridis' )\n"
     ]
    },
    {
     "data": {
      "image/png": "[encoded data removed]",
      "text/plain": [
       "<Figure size 1000x600 with 1 Axes>"
      ]
     },
     "metadata": {},
     "output_type": "display_data"
    }
   ],
   "source": [
    "# Define weekday order and convert to categorical\n",
    "df['weekday'] = pd.Categorical(df['started_at'].dt.day_name(), \n",
    "                                categories=['Monday', 'Tuesday', 'Wednesday', \n",
    "                                            'Thursday', 'Friday', 'Saturday', 'Sunday'], \n",
    "                                ordered=True)\n",
    "\n",
    "# Create the summary table for average ride length\n",
    "summary = (df.groupby('weekday', observed=True)\n",
    "           .agg(average_ride_length=('ride_length', 'mean'))\n",
    "           .reset_index())\n",
    "\n",
    "# Create the bar plot without hue and palette\n",
    "plt.figure(figsize=(10, 6))\n",
    "sns.barplot(data=summary, x='weekday', y='average_ride_length', palette='viridis' )\n",
    "plt.title('Average Ride Length by Weekday')\n",
    "plt.xlabel('Weekday')\n",
    "plt.ylabel('Average Ride Length (minutes)')\n",
    "plt.xticks(rotation=45)  # Rotate x-axis labels for better readability\n",
    "plt.tight_layout()  # Adjust layout for better spacing\n",
    "plt.show()\n"
   ]
  },
  {
   "cell_type": "markdown",
   "metadata": {},
   "source": [
    "### Conclusions\n",
    "\n",
    "#### 3. Average Ride Length by Weekday\n",
    "- The **average ride length** increases noticeably on the weekends, with **Saturday** having the highest average ride length of about 25 minutes.\n",
    "- On weekdays, the average ride length remains consistent, ranging between 15 to 18 minutes, suggesting shorter trips during weekdays, possibly due to commuting.\n",
    "---"
   ]
  },
  {
   "cell_type": "markdown",
   "metadata": {},
   "source": [
    "## ACT\n",
    "\n",
    "### Overall Conclusion\n",
    "- **Casual riders** tend to take longer trips, especially on weekends, likely for leisure or recreation.\n",
    "- **Members** appear to use bikes for shorter, consistent trips throughout the week, possibly for commuting or daily activities.\n",
    "- **Total ridership** is higher on weekdays, though ride durations tend to be longer during weekends.\n",
    "\n",
    "\n",
    "\n",
    "### Recommendations\n",
    "\n",
    "1. **Target Casual Riders with Weekend Promotions**:\n",
    "   - Since casual riders take longer trips on weekends, Cyclistic could offer special weekend promotions or discounts to further encourage usage, such as extended ride durations for a flat fee.\n",
    "   \n",
    "2. **Introduce Membership Options for Recreational Riders**:\n",
    "   - To convert casual riders into annual members, Cyclistic could introduce a membership tier designed specifically for those who use bikes for leisure, offering benefits like discounted weekend rides or packages for long-duration rides.\n",
    "\n",
    "3. **Optimize Bike Availability on Weekdays**:\n",
    "   - Given that members use bikes more consistently on weekdays for shorter trips, Cyclistic could ensure higher bike availability near commuter hubs during peak hours to support weekday commuters.\n",
    "\n",
    "4. **Promote Off-Peak Hours for Member Riders**:\n",
    "   - Cyclistic could encourage members to use bikes during non-peak hours or weekends by offering rewards or reduced fees for trips taken during these periods, ensuring a balanced distribution of bike availability.\n",
    "\n",
    "5. **Expand Services on Saturdays**:\n",
    "   - With Saturday showing the highest number of rides, Cyclistic could allocate more bikes and ensure maintenance teams are available to meet the increased demand on this day.\n",
    "   \n",
    "6. **Leverage Ride Data for Targeted Marketing**:\n",
    "   - Cyclistic can use ride length and frequency data to segment and target different rider groups, offering personalized promotions to casual riders for converting them to members, and to existing members for boosting their weekend usage.\n",
    "\n"
   ]
  }
 ],
 "metadata": {
  "kernelspec": {
   "display_name": "Python 3 (ipykernel)",
   "language": "python",
   "name": "python3"
  },
  "language_info": {
   "codemirror_mode": {
    "name": "ipython",
    "version": 3
   },
   "file_extension": ".py",
   "mimetype": "text/x-python",
   "name": "python",
   "nbconvert_exporter": "python",
   "pygments_lexer": "ipython3",
   "version": "3.12.1"
  }
 },
 "nbformat": 4,
 "nbformat_minor": 4
}
